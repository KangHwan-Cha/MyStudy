{
 "cells": [
  {
   "cell_type": "code",
   "execution_count": 43,
   "id": "9fd5d849",
   "metadata": {},
   "outputs": [
    {
     "name": "stdout",
     "output_type": "stream",
     "text": [
      "Requirement already satisfied: seaborn==0.9.0 in c:\\users\\star2\\codeit\\lib\\site-packages (0.9.0)\n",
      "Requirement already satisfied: numpy>=1.9.3 in c:\\users\\star2\\codeit\\lib\\site-packages (from seaborn==0.9.0) (1.20.3)\n",
      "Requirement already satisfied: pandas>=0.15.2 in c:\\users\\star2\\codeit\\lib\\site-packages (from seaborn==0.9.0) (1.3.4)\n",
      "Requirement already satisfied: scipy>=0.14.0 in c:\\users\\star2\\codeit\\lib\\site-packages (from seaborn==0.9.0) (1.7.1)\n",
      "Requirement already satisfied: matplotlib>=1.4.3 in c:\\users\\star2\\codeit\\lib\\site-packages (from seaborn==0.9.0) (3.4.3)\n",
      "Requirement already satisfied: python-dateutil>=2.7 in c:\\users\\star2\\codeit\\lib\\site-packages (from matplotlib>=1.4.3->seaborn==0.9.0) (2.8.2)\n",
      "Requirement already satisfied: pillow>=6.2.0 in c:\\users\\star2\\codeit\\lib\\site-packages (from matplotlib>=1.4.3->seaborn==0.9.0) (8.4.0)\n",
      "Requirement already satisfied: kiwisolver>=1.0.1 in c:\\users\\star2\\codeit\\lib\\site-packages (from matplotlib>=1.4.3->seaborn==0.9.0) (1.3.1)\n",
      "Requirement already satisfied: pyparsing>=2.2.1 in c:\\users\\star2\\codeit\\lib\\site-packages (from matplotlib>=1.4.3->seaborn==0.9.0) (3.0.4)\n",
      "Requirement already satisfied: cycler>=0.10 in c:\\users\\star2\\codeit\\lib\\site-packages (from matplotlib>=1.4.3->seaborn==0.9.0) (0.10.0)\n",
      "Requirement already satisfied: six in c:\\users\\star2\\codeit\\lib\\site-packages (from cycler>=0.10->matplotlib>=1.4.3->seaborn==0.9.0) (1.16.0)\n",
      "Requirement already satisfied: pytz>=2017.3 in c:\\users\\star2\\codeit\\lib\\site-packages (from pandas>=0.15.2->seaborn==0.9.0) (2021.3)\n"
     ]
    }
   ],
   "source": [
    "!pip install seaborn==0.9.0"
   ]
  },
  {
   "cell_type": "code",
   "execution_count": 46,
   "id": "76995c50",
   "metadata": {},
   "outputs": [],
   "source": [
    "import pandas as pd\n",
    "import seaborn as sns"
   ]
  },
  {
   "cell_type": "code",
   "execution_count": 49,
   "id": "463e7939",
   "metadata": {},
   "outputs": [
    {
     "data": {
      "text/html": [
       "<div>\n",
       "<style scoped>\n",
       "    .dataframe tbody tr th:only-of-type {\n",
       "        vertical-align: middle;\n",
       "    }\n",
       "\n",
       "    .dataframe tbody tr th {\n",
       "        vertical-align: top;\n",
       "    }\n",
       "\n",
       "    .dataframe thead th {\n",
       "        text-align: right;\n",
       "    }\n",
       "</style>\n",
       "<table border=\"1\" class=\"dataframe\">\n",
       "  <thead>\n",
       "    <tr style=\"text-align: right;\">\n",
       "      <th></th>\n",
       "      <th>line</th>\n",
       "      <th>station</th>\n",
       "      <th>in</th>\n",
       "      <th>out</th>\n",
       "    </tr>\n",
       "  </thead>\n",
       "  <tbody>\n",
       "    <tr>\n",
       "      <th>0</th>\n",
       "      <td>중앙선</td>\n",
       "      <td>지평</td>\n",
       "      <td>37</td>\n",
       "      <td>28</td>\n",
       "    </tr>\n",
       "    <tr>\n",
       "      <th>1</th>\n",
       "      <td>중앙선</td>\n",
       "      <td>용문</td>\n",
       "      <td>2064</td>\n",
       "      <td>2103</td>\n",
       "    </tr>\n",
       "    <tr>\n",
       "      <th>2</th>\n",
       "      <td>중앙선</td>\n",
       "      <td>원덕</td>\n",
       "      <td>375</td>\n",
       "      <td>357</td>\n",
       "    </tr>\n",
       "    <tr>\n",
       "      <th>3</th>\n",
       "      <td>중앙선</td>\n",
       "      <td>양평</td>\n",
       "      <td>4338</td>\n",
       "      <td>4378</td>\n",
       "    </tr>\n",
       "    <tr>\n",
       "      <th>4</th>\n",
       "      <td>중앙선</td>\n",
       "      <td>오빈</td>\n",
       "      <td>321</td>\n",
       "      <td>321</td>\n",
       "    </tr>\n",
       "    <tr>\n",
       "      <th>...</th>\n",
       "      <td>...</td>\n",
       "      <td>...</td>\n",
       "      <td>...</td>\n",
       "      <td>...</td>\n",
       "    </tr>\n",
       "    <tr>\n",
       "      <th>586</th>\n",
       "      <td>1호선</td>\n",
       "      <td>종로5가</td>\n",
       "      <td>31245</td>\n",
       "      <td>30678</td>\n",
       "    </tr>\n",
       "    <tr>\n",
       "      <th>587</th>\n",
       "      <td>1호선</td>\n",
       "      <td>종로3가</td>\n",
       "      <td>38099</td>\n",
       "      <td>36928</td>\n",
       "    </tr>\n",
       "    <tr>\n",
       "      <th>588</th>\n",
       "      <td>1호선</td>\n",
       "      <td>종각</td>\n",
       "      <td>52310</td>\n",
       "      <td>50088</td>\n",
       "    </tr>\n",
       "    <tr>\n",
       "      <th>589</th>\n",
       "      <td>1호선</td>\n",
       "      <td>시청</td>\n",
       "      <td>29150</td>\n",
       "      <td>29043</td>\n",
       "    </tr>\n",
       "    <tr>\n",
       "      <th>590</th>\n",
       "      <td>1호선</td>\n",
       "      <td>서울역</td>\n",
       "      <td>58391</td>\n",
       "      <td>54356</td>\n",
       "    </tr>\n",
       "  </tbody>\n",
       "</table>\n",
       "<p>591 rows × 4 columns</p>\n",
       "</div>"
      ],
      "text/plain": [
       "    line station     in    out\n",
       "0    중앙선      지평     37     28\n",
       "1    중앙선      용문   2064   2103\n",
       "2    중앙선      원덕    375    357\n",
       "3    중앙선      양평   4338   4378\n",
       "4    중앙선      오빈    321    321\n",
       "..   ...     ...    ...    ...\n",
       "586  1호선    종로5가  31245  30678\n",
       "587  1호선    종로3가  38099  36928\n",
       "588  1호선      종각  52310  50088\n",
       "589  1호선      시청  29150  29043\n",
       "590  1호선     서울역  58391  54356\n",
       "\n",
       "[591 rows x 4 columns]"
      ]
     },
     "execution_count": 49,
     "metadata": {},
     "output_type": "execute_result"
    }
   ],
   "source": [
    "open_csv = 'C:\\\\USERS\\\\star2\\\\DATA\\\\subway.csv'\n",
    "df = pd.read_csv(open_csv)\n",
    "df\n"
   ]
  },
  {
   "cell_type": "code",
   "execution_count": 50,
   "id": "7d906ff0",
   "metadata": {},
   "outputs": [
    {
     "data": {
      "text/plain": [
       "<AxesSubplot:>"
      ]
     },
     "execution_count": 50,
     "metadata": {},
     "output_type": "execute_result"
    },
    {
     "data": {
      "image/png": "[encoded data removed]",
      "text/plain": [
       "<Figure size 432x288 with 1 Axes>"
      ]
     },
     "metadata": {
      "needs_background": "light"
     },
     "output_type": "display_data"
    }
   ],
   "source": [
    "sns.kdeplot(df['in'])"
   ]
  }
 ],
 "metadata": {
  "kernelspec": {
   "display_name": "Python 3 (ipykernel)",
   "language": "python",
   "name": "python3"
  },
  "language_info": {
   "codemirror_mode": {
    "name": "ipython",
    "version": 3
   },
   "file_extension": ".py",
   "mimetype": "text/x-python",
   "name": "python",
   "nbconvert_exporter": "python",
   "pygments_lexer": "ipython3",
   "version": "3.9.7"
  }
 },
 "nbformat": 4,
 "nbformat_minor": 5
}
