{
 "cells": [
  {
   "cell_type": "code",
   "execution_count": 1,
   "id": "ed96dc3d",
   "metadata": {},
   "outputs": [],
   "source": [
    "import pandas as pd"
   ]
  },
  {
   "cell_type": "code",
   "execution_count": 2,
   "id": "de0bb301",
   "metadata": {},
   "outputs": [],
   "source": [
    "df = pd.read_csv('downloads\\\\enrolment_1.csv')"
   ]
  },
  {
   "cell_type": "code",
   "execution_count": 3,
   "id": "33dfdd91",
   "metadata": {},
   "outputs": [],
   "source": [
    "df['status'] = 'allowed'\n",
    "boolean1 = df['course name'] == 'information technology'\n",
    "boolean2 = df['year'] == 1\n",
    "boolean3 = df['course name'] == 'commerce'\n",
    "boolean4 = df['year'] == 4\n",
    "df.loc[boolean1 & boolean2 | boolean3 & boolean4, 'status'] = 'not allowed'\n",
    "allowed = df['status'] == 'allowed'\n",
    "course_counts = df.loc[allowed, 'course name'].value_counts()\n",
    "closed_course = list(course_counts[course_counts < 5].index)\n",
    "for course in closed_course:\n",
    "    df.loc[df['course name'] == course, 'status'] = 'not allowed'\n",
    "    \n",
    "# df.loc[df['status'] == 'not allowed']"
   ]
  },
  {
   "cell_type": "code",
   "execution_count": null,
   "id": "c27396b2",
   "metadata": {},
   "outputs": [],
   "source": []
  }
 ],
 "metadata": {
  "kernelspec": {
   "display_name": "Python 3 (ipykernel)",
   "language": "python",
   "name": "python3"
  },
  "language_info": {
   "codemirror_mode": {
    "name": "ipython",
    "version": 3
   },
   "file_extension": ".py",
   "mimetype": "text/x-python",
   "name": "python",
   "nbconvert_exporter": "python",
   "pygments_lexer": "ipython3",
   "version": "3.9.7"
  }
 },
 "nbformat": 4,
 "nbformat_minor": 5
}
