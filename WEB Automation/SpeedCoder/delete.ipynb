{
 "cells": [
  {
   "cell_type": "code",
   "execution_count": 26,
   "metadata": {},
   "outputs": [],
   "source": [
    "import os\n",
    "import getpass"
   ]
  },
  {
   "cell_type": "code",
   "execution_count": 27,
   "metadata": {},
   "outputs": [],
   "source": [
    "from selenium import webdriver\n",
    "from selenium.webdriver.common.by import By\n",
    "from selenium.webdriver.support.select import Select\n",
    "import time\n",
    "from tkinter import messagebox\n",
    "import undetected_chromedriver as uc\n",
    "from selenium.webdriver.common.keys import Keys\n",
    "\n",
    "\n",
    "# setting web driver\n",
    "driver = uc.Chrome('')\n",
    "driver.implicitly_wait(5)\n",
    "\n",
    "# get KS Std library\n",
    "driver.get('https://www.speedcoder.net/customcode/')\n",
    "time.sleep(3)"
   ]
  },
  {
   "cell_type": "code",
   "execution_count": 28,
   "metadata": {},
   "outputs": [],
   "source": [
    "driver.find_element(By.CSS_SELECTOR, 'body > div.container > div > a').click()"
   ]
  },
  {
   "cell_type": "code",
   "execution_count": 29,
   "metadata": {},
   "outputs": [],
   "source": [
    "driver.find_element(By.CSS_SELECTOR, '#identifierId').send_keys(input(\"ID 입력: \"))\n",
    "# driver.find_element(By.CSS_SELECTOR, '#identifierId').send_keys('kanghwan.cha@gmail.com')"
   ]
  },
  {
   "cell_type": "code",
   "execution_count": 30,
   "metadata": {},
   "outputs": [],
   "source": [
    "driver.find_element(By.CSS_SELECTOR, '#identifierNext > div > button > span').click()"
   ]
  },
  {
   "cell_type": "code",
   "execution_count": 31,
   "metadata": {},
   "outputs": [],
   "source": [
    "driver.find_element(By.CSS_SELECTOR, '#password > div.aCsJod.oJeWuf > div > div.Xb9hP > input').send_keys(getpass.getpass(\"PW 입력: \"))"
   ]
  },
  {
   "cell_type": "code",
   "execution_count": 32,
   "metadata": {},
   "outputs": [],
   "source": [
    "driver.find_element(By.CSS_SELECTOR, '#passwordNext > div > button > span').click()\n",
    "# 핸드폰으로 본인 인증 진행 필요"
   ]
  },
  {
   "cell_type": "code",
   "execution_count": 34,
   "metadata": {},
   "outputs": [
    {
     "name": "stdout",
     "output_type": "stream",
     "text": [
      "Error!\n"
     ]
    }
   ],
   "source": [
    "del_but = 'body > div.container-fluid > div:nth-child(3) > div.col-md-8 > form:nth-child(3) > input.btn.btn-sm.btn-danger.pull-right'\n",
    "try:\n",
    "    driver.find_element(By.CSS_SELECTOR, 'body').send_keys(Keys.PAGE_DOWN)\n",
    "    while True:\n",
    "        driver.find_element(By.CSS_SELECTOR, del_but).click()\n",
    "        time.sleep(1)\n",
    "        driver.implicitly_wait(5)\n",
    "        # driver.find_element(By.CSS_SELECTOR, 'body').send_keys(Keys.PAGE_DOWN)\n",
    "        # time.sleep(1)\n",
    "        # driver.implicitly_wait(5)\n",
    "except:\n",
    "    print(\"Error!\")\n",
    "    # driver.quit()"
   ]
  },
  {
   "cell_type": "code",
   "execution_count": 35,
   "metadata": {},
   "outputs": [],
   "source": [
    "driver.quit()"
   ]
  }
 ],
 "metadata": {
  "kernelspec": {
   "display_name": "Python 3",
   "language": "python",
   "name": "python3"
  },
  "language_info": {
   "codemirror_mode": {
    "name": "ipython",
    "version": 3
   },
   "file_extension": ".py",
   "mimetype": "text/x-python",
   "name": "python",
   "nbconvert_exporter": "python",
   "pygments_lexer": "ipython3",
   "version": "3.9.13"
  },
  "orig_nbformat": 4,
  "vscode": {
   "interpreter": {
    "hash": "5f5ffc5f78e6225cd3937f351c2c1563aeb8fb30021449671063618b955d2ad0"
   }
  }
 },
 "nbformat": 4,
 "nbformat_minor": 2
}
