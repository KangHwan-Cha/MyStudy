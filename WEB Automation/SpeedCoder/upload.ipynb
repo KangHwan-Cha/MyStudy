{
 "cells": [
  {
   "cell_type": "code",
   "execution_count": 28,
   "metadata": {},
   "outputs": [],
   "source": [
    "import os\n",
    "import getpass\n",
    "from collections import defaultdict"
   ]
  },
  {
   "cell_type": "code",
   "execution_count": 29,
   "metadata": {},
   "outputs": [],
   "source": [
    "def size_contents(s: str):\n",
    "    length = len(s.split('\\n'))\n",
    "    if length > 16:\n",
    "        return s\n",
    "    else:\n",
    "        for _ in range(16-length):\n",
    "            s += '\\n'\n",
    "    return s\n",
    "\n",
    "path = 'upload_data'\n",
    "py_dict = defaultdict(str)\n",
    "section_cnt = 1\n",
    "SEP = 80\n",
    "tfs = []\n",
    "for dir, folders, files in os.walk(path):\n",
    "    tfs = files\n",
    "    for f in sorted(files, key=lambda x: x.split('-')[0].zfill(2)):\n",
    "        ext = os.path.splitext(f)[1]\n",
    "        if ext == '.py':\n",
    "            with open(os.path.join(dir, f), 'r', encoding='utf-8') as py:\n",
    "                contents = py.read()\n",
    "                contents = f'# {f}\\n' + contents\n",
    "                if 'kakao' in f:\n",
    "                    dict_name = 'kakao'\n",
    "                else:\n",
    "                    if py_dict and len(py_dict[str(section_cnt).zfill(3)].split('\\n')) + len(contents.split('\\n')) > SEP:\n",
    "                        section_cnt += 1\n",
    "                    dict_name = str(section_cnt).zfill(3)\n",
    "\n",
    "                py_dict[dict_name] = py_dict[dict_name] + contents"
   ]
  },
  {
   "cell_type": "code",
   "execution_count": 30,
   "metadata": {},
   "outputs": [
    {
     "name": "stdout",
     "output_type": "stream",
     "text": [
      "['asdfasdfasdfasdfasdf', '', '', '', '', '', '', '', '', '', '', '', '', '', '', '']\n"
     ]
    }
   ],
   "source": [
    "s = 'asdfasdfasdfasdfasdf\\n\\n'\n",
    "print(size_contents(s).split('\\n'))"
   ]
  },
  {
   "cell_type": "code",
   "execution_count": 31,
   "metadata": {},
   "outputs": [],
   "source": [
    "tfs.sort()\n",
    "tfs.sort(key=lambda x: x.split('-')[0].zfill(2))\n",
    "# tfs"
   ]
  },
  {
   "cell_type": "code",
   "execution_count": 32,
   "metadata": {},
   "outputs": [
    {
     "name": "stdout",
     "output_type": "stream",
     "text": [
      "79\\72\\67\\51\\75\\67\\78\\69\\65\\18\\67\\51\\73\\76\\73\\73\\55\\38\\66\\34\\71\\72\\57\\62\\71\\68\\75\\57\\58\\55\\78\\76\\70\\64\\70\\62\\68\\59\\68\\76\\67\\73\\71\\72\\78\\76\\55\\79\\57\\67\\75\\74\\77\\224\\"
     ]
    },
    {
     "data": {
      "text/plain": [
       "['001',\n",
       " '002',\n",
       " '003',\n",
       " '004',\n",
       " '005',\n",
       " '006',\n",
       " '007',\n",
       " '008',\n",
       " '009',\n",
       " '010',\n",
       " '011',\n",
       " '012',\n",
       " '013',\n",
       " '014',\n",
       " '015',\n",
       " '016',\n",
       " '017',\n",
       " '018',\n",
       " '019',\n",
       " '020',\n",
       " '021',\n",
       " '022',\n",
       " '023',\n",
       " '024',\n",
       " '025',\n",
       " '026',\n",
       " '027',\n",
       " '028',\n",
       " '029',\n",
       " '030',\n",
       " '031',\n",
       " '032',\n",
       " '033',\n",
       " '034',\n",
       " '035',\n",
       " '036',\n",
       " '037',\n",
       " '038',\n",
       " '039',\n",
       " '040',\n",
       " '041',\n",
       " '042',\n",
       " '043',\n",
       " '044',\n",
       " '045',\n",
       " '046',\n",
       " '047',\n",
       " '048',\n",
       " '049',\n",
       " '050',\n",
       " '051',\n",
       " '052',\n",
       " '053',\n",
       " 'kakao']"
      ]
     },
     "execution_count": 32,
     "metadata": {},
     "output_type": "execute_result"
    }
   ],
   "source": [
    "section_line = []\n",
    "for k, v in py_dict.items():\n",
    "    section_line.append(len(v.split('\\n')))\n",
    "for i in section_line: print(i, end='\\\\')\n",
    "sorted(py_dict.keys())"
   ]
  },
  {
   "cell_type": "code",
   "execution_count": 33,
   "metadata": {},
   "outputs": [],
   "source": [
    "from selenium import webdriver\n",
    "from selenium.webdriver.common.by import By\n",
    "from selenium.webdriver.support.select import Select\n",
    "import time\n",
    "from tkinter import messagebox\n",
    "import undetected_chromedriver as uc\n",
    "from selenium.webdriver.common.keys import Keys\n",
    "\n",
    "# setting web driver\n",
    "driver = uc.Chrome('')\n",
    "driver.implicitly_wait(5)\n",
    "\n",
    "# get KS Std library\n",
    "driver.get('https://www.speedcoder.net/customcode/')\n",
    "time.sleep(3)"
   ]
  },
  {
   "cell_type": "code",
   "execution_count": 34,
   "metadata": {},
   "outputs": [],
   "source": [
    "driver.find_element(By.CSS_SELECTOR, 'body > div.container > div > a').click()"
   ]
  },
  {
   "cell_type": "code",
   "execution_count": 35,
   "metadata": {},
   "outputs": [],
   "source": [
    "driver.find_element(By.CSS_SELECTOR, '#identifierId').send_keys(input(\"ID 입력: \"))"
   ]
  },
  {
   "cell_type": "code",
   "execution_count": 36,
   "metadata": {},
   "outputs": [],
   "source": [
    "driver.find_element(By.CSS_SELECTOR, '#identifierNext > div > button > span').click()"
   ]
  },
  {
   "cell_type": "code",
   "execution_count": 39,
   "metadata": {},
   "outputs": [],
   "source": [
    "driver.find_element(By.CSS_SELECTOR, '#password > div.aCsJod.oJeWuf > div > div.Xb9hP > input').send_keys(getpass.getpass(\"PW 입력: \"))"
   ]
  },
  {
   "cell_type": "code",
   "execution_count": 38,
   "metadata": {},
   "outputs": [],
   "source": [
    "driver.find_element(By.CSS_SELECTOR, '#passwordNext > div > button > span').click()\n",
    "# 핸드폰으로 본인 인증 진행 필요"
   ]
  },
  {
   "cell_type": "code",
   "execution_count": 40,
   "metadata": {},
   "outputs": [],
   "source": [
    "for key, value in sorted(py_dict.items()):\n",
    "    driver.find_element(By.CSS_SELECTOR, '#id_name').send_keys(key + '__section')\n",
    "    body = driver.find_element(By.CSS_SELECTOR, 'body').send_keys(Keys.HOME)\n",
    "    time.sleep(2)\n",
    "    driver.implicitly_wait(5)\n",
    "    Select(driver.find_element(By.CSS_SELECTOR, '#id_language')).select_by_visible_text('python')\n",
    "    driver.implicitly_wait(5)\n",
    "    driver.find_element(By.CSS_SELECTOR, '#id_sourcecode').send_keys(value)\n",
    "    driver.implicitly_wait(5)\n",
    "    driver.find_element(By.CSS_SELECTOR, 'body > div.container-fluid > div:nth-child(1) > div.col-md-10 > form > input.btn.btn-default').click()\n",
    "    driver.implicitly_wait(5)\n",
    "    time.sleep(2)"
   ]
  },
  {
   "cell_type": "code",
   "execution_count": 41,
   "metadata": {},
   "outputs": [],
   "source": [
    "driver.quit()"
   ]
  },
  {
   "cell_type": "code",
   "execution_count": null,
   "metadata": {},
   "outputs": [],
   "source": []
  }
 ],
 "metadata": {
  "kernelspec": {
   "display_name": "Python 3",
   "language": "python",
   "name": "python3"
  },
  "language_info": {
   "codemirror_mode": {
    "name": "ipython",
    "version": 3
   },
   "file_extension": ".py",
   "mimetype": "text/x-python",
   "name": "python",
   "nbconvert_exporter": "python",
   "pygments_lexer": "ipython3",
   "version": "3.9.13"
  },
  "orig_nbformat": 4,
  "vscode": {
   "interpreter": {
    "hash": "5f5ffc5f78e6225cd3937f351c2c1563aeb8fb30021449671063618b955d2ad0"
   }
  }
 },
 "nbformat": 4,
 "nbformat_minor": 2
}
