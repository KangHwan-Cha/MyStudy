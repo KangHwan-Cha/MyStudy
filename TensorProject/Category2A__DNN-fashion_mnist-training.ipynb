{
 "cells": [
  {
   "attachments": {},
   "cell_type": "markdown",
   "metadata": {},
   "source": [
    "<a href=\"https://colab.research.google.com/github/KangHwan-Cha/MyStudy/blob/main/TensorProject/Category2A__DNN-fashion_mnist-training.ipynb\" target=\"_parent\"><img src=\"https://colab.research.google.com/assets/colab-badge.svg\" alt=\"Open In Colab\"/></a>"
   ]
  },
  {
   "cell_type": "code",
   "execution_count": 37,
   "metadata": {},
   "outputs": [],
   "source": [
    "# import\n",
    "import numpy as np\n",
    "import matplotlib.pyplot as plt\n",
    "import tensorflow as tf\n",
    "\n",
    "from tensorflow.keras.layers import Dense, Flatten\n",
    "from tensorflow.keras.models import Sequential\n",
    "from tensorflow.keras.callbacks import ModelCheckpoint"
   ]
  },
  {
   "cell_type": "code",
   "execution_count": 38,
   "metadata": {},
   "outputs": [],
   "source": [
    "fashion_mnist = tf.keras.datasets.fashion_mnist"
   ]
  },
  {
   "cell_type": "code",
   "execution_count": 39,
   "metadata": {},
   "outputs": [],
   "source": [
    "(x_train, y_train), (x_valid, y_valid) = fashion_mnist.load_data()"
   ]
  },
  {
   "cell_type": "code",
   "execution_count": 40,
   "metadata": {},
   "outputs": [
    {
     "data": {
      "text/plain": [
       "((60000, 28, 28), (10000, 28, 28), (60000,), (10000,))"
      ]
     },
     "execution_count": 40,
     "metadata": {},
     "output_type": "execute_result"
    }
   ],
   "source": [
    "x_train.shape, x_valid.shape, y_train.shape, y_valid.shape"
   ]
  },
  {
   "cell_type": "code",
   "execution_count": 41,
   "metadata": {},
   "outputs": [],
   "source": [
    "x_train = x_train / 255.0\n",
    "x_valid = x_valid / 255.0"
   ]
  },
  {
   "cell_type": "code",
   "execution_count": 43,
   "metadata": {},
   "outputs": [],
   "source": [
    "model = Sequential([\n",
    "    Flatten(input_shape=(28,28)),\n",
    "    Dense(1024, activation='relu'),\n",
    "    Dense(512, activation='relu'),\n",
    "    Dense(256, activation='relu'),\n",
    "    Dense(64, activation='relu'),\n",
    "    Dense(10, activation='softmax'),\n",
    "])"
   ]
  },
  {
   "cell_type": "code",
   "execution_count": 46,
   "metadata": {},
   "outputs": [
    {
     "name": "stdout",
     "output_type": "stream",
     "text": [
      "Model: \"sequential\"\n",
      "_________________________________________________________________\n",
      " Layer (type)                Output Shape              Param #   \n",
      "=================================================================\n",
      " flatten (Flatten)           (None, 784)               0         \n",
      "                                                                 \n",
      " dense (Dense)               (None, 1024)              803840    \n",
      "                                                                 \n",
      " dense_1 (Dense)             (None, 512)               524800    \n",
      "                                                                 \n",
      " dense_2 (Dense)             (None, 256)               131328    \n",
      "                                                                 \n",
      " dense_3 (Dense)             (None, 64)                16448     \n",
      "                                                                 \n",
      " dense_4 (Dense)             (None, 10)                650       \n",
      "                                                                 \n",
      "=================================================================\n",
      "Total params: 1,477,066\n",
      "Trainable params: 1,477,066\n",
      "Non-trainable params: 0\n",
      "_________________________________________________________________\n"
     ]
    }
   ],
   "source": [
    "model.summary()"
   ]
  },
  {
   "cell_type": "code",
   "execution_count": 49,
   "metadata": {},
   "outputs": [],
   "source": [
    "model.compile(optimizer='adam', loss='sparse_categorical_crossentropy', metrics=['acc'])"
   ]
  },
  {
   "cell_type": "code",
   "execution_count": 50,
   "metadata": {},
   "outputs": [],
   "source": [
    "checkpoint_path = 'my_checkpoint.ckpt'\n",
    "checkpoint = ModelCheckpoint(filepath=checkpoint_path,\n",
    "                            save_weights_only=True,\n",
    "                            save_best_only=True,\n",
    "                            monitor='val_loss',\n",
    "                            verbose=1)"
   ]
  },
  {
   "cell_type": "code",
   "execution_count": 54,
   "metadata": {},
   "outputs": [
    {
     "name": "stdout",
     "output_type": "stream",
     "text": [
      "Epoch 1/20\n",
      "1874/1875 [============================>.] - ETA: 0s - loss: 0.4151 - acc: 0.8492\n",
      "Epoch 1: val_loss improved from inf to 0.41182, saving model to my_checkpoint.ckpt\n",
      "1875/1875 [==============================] - 34s 18ms/step - loss: 0.4151 - acc: 0.8492 - val_loss: 0.4118 - val_acc: 0.8516\n",
      "Epoch 2/20\n",
      "1874/1875 [============================>.] - ETA: 0s - loss: 0.3565 - acc: 0.8704\n",
      "Epoch 2: val_loss improved from 0.41182 to 0.37989, saving model to my_checkpoint.ckpt\n",
      "1875/1875 [==============================] - 32s 17ms/step - loss: 0.3565 - acc: 0.8704 - val_loss: 0.3799 - val_acc: 0.8652\n",
      "Epoch 3/20\n",
      "1872/1875 [============================>.] - ETA: 0s - loss: 0.3228 - acc: 0.8809\n",
      "Epoch 3: val_loss did not improve from 0.37989\n",
      "1875/1875 [==============================] - 32s 17ms/step - loss: 0.3227 - acc: 0.8809 - val_loss: 0.4173 - val_acc: 0.8471\n",
      "Epoch 4/20\n",
      "1875/1875 [==============================] - ETA: 0s - loss: 0.3015 - acc: 0.8886\n",
      "Epoch 4: val_loss improved from 0.37989 to 0.35349, saving model to my_checkpoint.ckpt\n",
      "1875/1875 [==============================] - 31s 17ms/step - loss: 0.3015 - acc: 0.8886 - val_loss: 0.3535 - val_acc: 0.8754\n",
      "Epoch 5/20\n",
      "1873/1875 [============================>.] - ETA: 0s - loss: 0.2858 - acc: 0.8939\n",
      "Epoch 5: val_loss improved from 0.35349 to 0.33907, saving model to my_checkpoint.ckpt\n",
      "1875/1875 [==============================] - 32s 17ms/step - loss: 0.2858 - acc: 0.8939 - val_loss: 0.3391 - val_acc: 0.8754\n",
      "Epoch 6/20\n",
      "1874/1875 [============================>.] - ETA: 0s - loss: 0.2712 - acc: 0.8988\n",
      "Epoch 6: val_loss improved from 0.33907 to 0.33808, saving model to my_checkpoint.ckpt\n",
      "1875/1875 [==============================] - 34s 18ms/step - loss: 0.2712 - acc: 0.8988 - val_loss: 0.3381 - val_acc: 0.8771\n",
      "Epoch 7/20\n",
      "1874/1875 [============================>.] - ETA: 0s - loss: 0.2584 - acc: 0.9037\n",
      "Epoch 7: val_loss did not improve from 0.33808\n",
      "1875/1875 [==============================] - 37s 20ms/step - loss: 0.2585 - acc: 0.9037 - val_loss: 0.3797 - val_acc: 0.8652\n",
      "Epoch 8/20\n",
      "1875/1875 [==============================] - ETA: 0s - loss: 0.2502 - acc: 0.9051\n",
      "Epoch 8: val_loss improved from 0.33808 to 0.33658, saving model to my_checkpoint.ckpt\n",
      "1875/1875 [==============================] - 36s 19ms/step - loss: 0.2502 - acc: 0.9051 - val_loss: 0.3366 - val_acc: 0.8846\n",
      "Epoch 9/20\n",
      "1874/1875 [============================>.] - ETA: 0s - loss: 0.2373 - acc: 0.9114\n",
      "Epoch 9: val_loss improved from 0.33658 to 0.33050, saving model to my_checkpoint.ckpt\n",
      "1875/1875 [==============================] - 36s 19ms/step - loss: 0.2372 - acc: 0.9115 - val_loss: 0.3305 - val_acc: 0.8869\n",
      "Epoch 10/20\n",
      "1874/1875 [============================>.] - ETA: 0s - loss: 0.2308 - acc: 0.9142\n",
      "Epoch 10: val_loss did not improve from 0.33050\n",
      "1875/1875 [==============================] - 35s 19ms/step - loss: 0.2307 - acc: 0.9142 - val_loss: 0.3376 - val_acc: 0.8858\n",
      "Epoch 11/20\n",
      "1875/1875 [==============================] - ETA: 0s - loss: 0.2236 - acc: 0.9158\n",
      "Epoch 11: val_loss did not improve from 0.33050\n",
      "1875/1875 [==============================] - 36s 19ms/step - loss: 0.2236 - acc: 0.9158 - val_loss: 0.3585 - val_acc: 0.8795\n",
      "Epoch 12/20\n",
      "1875/1875 [==============================] - ETA: 0s - loss: 0.2143 - acc: 0.9199\n",
      "Epoch 12: val_loss did not improve from 0.33050\n",
      "1875/1875 [==============================] - 35s 18ms/step - loss: 0.2143 - acc: 0.9199 - val_loss: 0.3453 - val_acc: 0.8897\n",
      "Epoch 13/20\n",
      "1875/1875 [==============================] - ETA: 0s - loss: 0.2085 - acc: 0.9210\n",
      "Epoch 13: val_loss did not improve from 0.33050\n",
      "1875/1875 [==============================] - 38s 20ms/step - loss: 0.2085 - acc: 0.9210 - val_loss: 0.3591 - val_acc: 0.8836\n",
      "Epoch 14/20\n",
      "1873/1875 [============================>.] - ETA: 0s - loss: 0.2035 - acc: 0.9225\n",
      "Epoch 14: val_loss did not improve from 0.33050\n",
      "1875/1875 [==============================] - 38s 20ms/step - loss: 0.2034 - acc: 0.9225 - val_loss: 0.3712 - val_acc: 0.8858\n",
      "Epoch 15/20\n",
      "1874/1875 [============================>.] - ETA: 0s - loss: 0.1949 - acc: 0.9262\n",
      "Epoch 15: val_loss did not improve from 0.33050\n",
      "1875/1875 [==============================] - 38s 20ms/step - loss: 0.1948 - acc: 0.9262 - val_loss: 0.3667 - val_acc: 0.8896\n",
      "Epoch 16/20\n",
      "1875/1875 [==============================] - ETA: 0s - loss: 0.1921 - acc: 0.9271\n",
      "Epoch 16: val_loss did not improve from 0.33050\n",
      "1875/1875 [==============================] - 36s 19ms/step - loss: 0.1921 - acc: 0.9271 - val_loss: 0.3684 - val_acc: 0.8847\n",
      "Epoch 17/20\n",
      "1874/1875 [============================>.] - ETA: 0s - loss: 0.1851 - acc: 0.9294\n",
      "Epoch 17: val_loss did not improve from 0.33050\n",
      "1875/1875 [==============================] - 36s 19ms/step - loss: 0.1851 - acc: 0.9294 - val_loss: 0.3603 - val_acc: 0.8901\n",
      "Epoch 18/20\n",
      "1875/1875 [==============================] - ETA: 0s - loss: 0.1822 - acc: 0.9301\n",
      "Epoch 18: val_loss did not improve from 0.33050\n",
      "1875/1875 [==============================] - 34s 18ms/step - loss: 0.1822 - acc: 0.9301 - val_loss: 0.3761 - val_acc: 0.8911\n",
      "Epoch 19/20\n",
      "1875/1875 [==============================] - ETA: 0s - loss: 0.1737 - acc: 0.9331\n",
      "Epoch 19: val_loss did not improve from 0.33050\n",
      "1875/1875 [==============================] - 35s 19ms/step - loss: 0.1737 - acc: 0.9331 - val_loss: 0.3683 - val_acc: 0.8960\n",
      "Epoch 20/20\n",
      "1875/1875 [==============================] - ETA: 0s - loss: 0.1757 - acc: 0.9357\n",
      "Epoch 20: val_loss did not improve from 0.33050\n",
      "1875/1875 [==============================] - 35s 19ms/step - loss: 0.1757 - acc: 0.9357 - val_loss: 0.3856 - val_acc: 0.8943\n"
     ]
    }
   ],
   "source": [
    "history = model.fit(x_train, y_train,\n",
    "            validation_data=(x_valid, y_valid),\n",
    "            epochs=20,\n",
    "            callbacks=[checkpoint],\n",
    "            )"
   ]
  },
  {
   "cell_type": "code",
   "execution_count": 55,
   "metadata": {},
   "outputs": [
    {
     "data": {
      "text/plain": [
       "<tensorflow.python.checkpoint.checkpoint.CheckpointLoadStatus at 0x1d68306cc70>"
      ]
     },
     "execution_count": 55,
     "metadata": {},
     "output_type": "execute_result"
    }
   ],
   "source": [
    "model.load_weights(checkpoint_path)"
   ]
  },
  {
   "cell_type": "code",
   "execution_count": 56,
   "metadata": {},
   "outputs": [
    {
     "name": "stdout",
     "output_type": "stream",
     "text": [
      "313/313 [==============================] - 1s 3ms/step - loss: 0.3305 - acc: 0.8869\n"
     ]
    },
    {
     "data": {
      "text/plain": [
       "[0.33049896359443665, 0.886900007724762]"
      ]
     },
     "execution_count": 56,
     "metadata": {},
     "output_type": "execute_result"
    }
   ],
   "source": [
    "model.evaluate(x_valid, y_valid)"
   ]
  },
  {
   "cell_type": "code",
   "execution_count": null,
   "metadata": {},
   "outputs": [],
   "source": []
  }
 ],
 "metadata": {
  "kernelspec": {
   "display_name": "Python 3",
   "language": "python",
   "name": "python3"
  },
  "language_info": {
   "codemirror_mode": {
    "name": "ipython",
    "version": 3
   },
   "file_extension": ".py",
   "mimetype": "text/x-python",
   "name": "python",
   "nbconvert_exporter": "python",
   "pygments_lexer": "ipython3",
   "version": "3.9.13 (tags/v3.9.13:6de2ca5, May 17 2022, 16:36:42) [MSC v.1929 64 bit (AMD64)]"
  },
  "orig_nbformat": 4,
  "vscode": {
   "interpreter": {
    "hash": "5f5ffc5f78e6225cd3937f351c2c1563aeb8fb30021449671063618b955d2ad0"
   }
  }
 },
 "nbformat": 4,
 "nbformat_minor": 2
}
