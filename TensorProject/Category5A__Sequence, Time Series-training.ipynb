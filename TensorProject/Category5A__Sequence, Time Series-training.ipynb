{
 "cells": [
  {
   "attachments": {},
   "cell_type": "markdown",
   "metadata": {},
   "source": [
    "<a href=\"https://colab.research.google.com/github/KangHwan-Cha/MyStudy/blob/main/TensorProject/Category5A__Sequence, Time Series-training.ipynb\" target=\"_parent\"><img src=\"https://colab.research.google.com/assets/colab-badge.svg\" alt=\"Open In Colab\"/></a>"
   ]
  },
  {
   "attachments": {},
   "cell_type": "markdown",
   "metadata": {},
   "source": [
    "### import"
   ]
  },
  {
   "cell_type": "code",
   "execution_count": 2,
   "metadata": {},
   "outputs": [],
   "source": [
    "import csv\n",
    "import tensorflow as tf\n",
    "import numpy as np\n",
    "import urllib"
   ]
  },
  {
   "cell_type": "code",
   "execution_count": 3,
   "metadata": {},
   "outputs": [],
   "source": [
    "from tensorflow.keras.layers import Dense, LSTM, Lambda, Conv1D\n",
    "from tensorflow.keras.models import Sequential\n",
    "from tensorflow.keras.callbacks import ModelCheckpoint\n",
    "from tensorflow.keras.optimizers import SGD\n",
    "from tensorflow.keras.losses import Huber"
   ]
  },
  {
   "cell_type": "code",
   "execution_count": 4,
   "metadata": {},
   "outputs": [
    {
     "data": {
      "text/plain": [
       "('sunspots.csv', <http.client.HTTPMessage at 0x1d7b858b310>)"
      ]
     },
     "execution_count": 4,
     "metadata": {},
     "output_type": "execute_result"
    }
   ],
   "source": [
    "url = 'https://storage.googleapis.com/download.tensorflow.org/data/Sunspots.csv'\n",
    "urllib.request.urlretrieve(url, 'sunspots.csv')"
   ]
  },
  {
   "cell_type": "code",
   "execution_count": 21,
   "metadata": {},
   "outputs": [
    {
     "name": "stdout",
     "output_type": "stream",
     "text": [
      "['', 'Date', 'Monthly Mean Total Sunspot Number']\n",
      "['0', '1749-01-31', '96.7']\n",
      "['1', '1749-02-28', '104.3']\n",
      "['2', '1749-03-31', '116.7']\n",
      "['3', '1749-04-30', '92.8']\n",
      "['4', '1749-05-31', '141.7']\n",
      "['5', '1749-06-30', '139.2']\n",
      "['6', '1749-07-31', '158.0']\n",
      "['7', '1749-08-31', '110.5']\n",
      "['8', '1749-09-30', '126.5']\n",
      "['9', '1749-10-31', '125.8']\n"
     ]
    }
   ],
   "source": [
    "with open('sunspots.csv') as csvfile:\n",
    "    reader = csv.reader(csvfile, delimiter=',')\n",
    "    i = 0\n",
    "    # for i in range(1): next(reader)\n",
    "    for row in reader:\n",
    "        print(row)\n",
    "        i+=1\n",
    "        if i > 10: break"
   ]
  },
  {
   "cell_type": "code",
   "execution_count": 18,
   "metadata": {},
   "outputs": [
    {
     "data": {
      "text/plain": [
       "((3235,), (3235,))"
      ]
     },
     "execution_count": 18,
     "metadata": {},
     "output_type": "execute_result"
    }
   ],
   "source": [
    "sunspots = []\n",
    "time_step = []\n",
    "with open('sunspots.csv') as csvfile:\n",
    "    reader = csv.reader(csvfile, delimiter=',')\n",
    "    next(reader)\n",
    "    for row in reader:\n",
    "        sunspots.append(float(row[2]))\n",
    "        time_step.append(int(row[0]))\n",
    "\n",
    "series = np.array(sunspots)\n",
    "time = np.array(time_step)\n",
    "series.shape, time.shape"
   ]
  },
  {
   "cell_type": "code",
   "execution_count": 19,
   "metadata": {},
   "outputs": [],
   "source": [
    "split_time = 3000\n",
    "time_train = time[:split_time]\n",
    "time_valid = time[split_time:]\n",
    "\n",
    "x_train = series[:split_time]\n",
    "x_valid = series[split_time:]"
   ]
  },
  {
   "cell_type": "code",
   "execution_count": 22,
   "metadata": {},
   "outputs": [],
   "source": [
    "window_size = 30\n",
    "batch_size = 32\n",
    "shuffle_size = 1000"
   ]
  },
  {
   "cell_type": "code",
   "execution_count": 23,
   "metadata": {},
   "outputs": [],
   "source": [
    "def windowed_dataset(series, window_size, batch_size, shuffle_buffer):\n",
    "    series = tf.expand_dims(series, axis=-1)\n",
    "    ds = tf.data.Dataset.from_tensor_slices(series)\n",
    "    ds = ds.window(window_size + 1, shift=1, drop_remainder=True)\n",
    "    ds = ds.flat_map(lambda w: w.batch(window_size + 1))\n",
    "    ds = ds.shuffle(shuffle_buffer)\n",
    "    ds = ds.map(lambda w: (w[:-1], w[1:]))\n",
    "    return ds.batch(batch_size).prefetch(1)"
   ]
  },
  {
   "cell_type": "code",
   "execution_count": 24,
   "metadata": {},
   "outputs": [
    {
     "name": "stdout",
     "output_type": "stream",
     "text": [
      "WARNING:tensorflow:From c:\\Users\\star2\\AppData\\Local\\Programs\\Python\\Python39\\lib\\site-packages\\tensorflow\\python\\autograph\\pyct\\static_analysis\\liveness.py:83: Analyzer.lamba_check (from tensorflow.python.autograph.pyct.static_analysis.liveness) is deprecated and will be removed after 2023-09-23.\n",
      "Instructions for updating:\n",
      "Lambda fuctions will be no more assumed to be used in the statement where they are used, or at least in the same block. https://github.com/tensorflow/tensorflow/issues/56089\n"
     ]
    }
   ],
   "source": [
    "train_set = windowed_dataset(x_train,\n",
    "                            window_size=window_size,\n",
    "                            batch_size=batch_size,\n",
    "                            shuffle_buffer=shuffle_size)\n",
    "\n",
    "validation_set = windowed_dataset(x_valid,\n",
    "                                window_size=window_size,\n",
    "                                batch_size=batch_size,\n",
    "                                shuffle_buffer=shuffle_size)"
   ]
  },
  {
   "cell_type": "code",
   "execution_count": 26,
   "metadata": {},
   "outputs": [],
   "source": [
    "model = Sequential([\n",
    "    Conv1D(60, kernel_size=5,\n",
    "            padding=\"causal\",\n",
    "            activation='relu',\n",
    "            input_shape=[None, 1]),\n",
    "    LSTM(60, return_sequences=True),\n",
    "    LSTM(60, return_sequences=True),\n",
    "    Dense(30, activation='relu'),\n",
    "    Dense(10, activation='relu'),\n",
    "    Dense(1),\n",
    "    Lambda(lambda x: x * 400)\n",
    "])"
   ]
  },
  {
   "cell_type": "code",
   "execution_count": 27,
   "metadata": {},
   "outputs": [
    {
     "name": "stdout",
     "output_type": "stream",
     "text": [
      "Model: \"sequential\"\n",
      "_________________________________________________________________\n",
      " Layer (type)                Output Shape              Param #   \n",
      "=================================================================\n",
      " conv1d_1 (Conv1D)           (None, None, 60)          360       \n",
      "                                                                 \n",
      " lstm_2 (LSTM)               (None, None, 60)          29040     \n",
      "                                                                 \n",
      " lstm_3 (LSTM)               (None, None, 60)          29040     \n",
      "                                                                 \n",
      " dense_1 (Dense)             (None, None, 30)          1830      \n",
      "                                                                 \n",
      " dense_2 (Dense)             (None, None, 10)          310       \n",
      "                                                                 \n",
      " dense_3 (Dense)             (None, None, 1)           11        \n",
      "                                                                 \n",
      " lambda (Lambda)             (None, None, 1)           0         \n",
      "                                                                 \n",
      "=================================================================\n",
      "Total params: 60,591\n",
      "Trainable params: 60,591\n",
      "Non-trainable params: 0\n",
      "_________________________________________________________________\n"
     ]
    }
   ],
   "source": [
    "model.summary()"
   ]
  },
  {
   "cell_type": "code",
   "execution_count": 30,
   "metadata": {},
   "outputs": [],
   "source": [
    "optimizer = SGD(learning_rate=0.00001, momentum=0.9)\n",
    "loss = Huber()\n",
    "model.compile(loss=loss, optimizer=optimizer, metrics=[\"mae\"])"
   ]
  },
  {
   "cell_type": "code",
   "execution_count": 34,
   "metadata": {},
   "outputs": [],
   "source": [
    "checkpoint_path = 'tmp_checkpoint.cktp'\n",
    "checkpoint = ModelCheckpoint(filepath=checkpoint_path,\n",
    "                            save_weights_only=True,\n",
    "                            save_best_only=True,\n",
    "                            monitor='val_mae',\n",
    "                            verbose=1)"
   ]
  },
  {
   "cell_type": "code",
   "execution_count": 35,
   "metadata": {},
   "outputs": [
    {
     "name": "stdout",
     "output_type": "stream",
     "text": [
      "Epoch 1/100\n",
      "     92/Unknown - 5s 18ms/step - loss: 29.5898 - mae: 30.0850\n",
      "Epoch 1: val_mae improved from inf to 27.79605, saving model to tmp_checkpoint.cktp\n",
      "93/93 [==============================] - 7s 42ms/step - loss: 29.5379 - mae: 30.0330 - val_loss: 27.3016 - val_mae: 27.7960\n",
      "Epoch 2/100\n",
      "92/93 [============================>.] - ETA: 0s - loss: 21.2789 - mae: 21.7720\n",
      "Epoch 2: val_mae improved from 27.79605 to 16.98994, saving model to tmp_checkpoint.cktp\n",
      "93/93 [==============================] - 2s 20ms/step - loss: 21.2999 - mae: 21.7929 - val_loss: 16.4995 - val_mae: 16.9899\n",
      "Epoch 3/100\n",
      "93/93 [==============================] - ETA: 0s - loss: 19.5712 - mae: 20.0641\n",
      "Epoch 3: val_mae improved from 16.98994 to 15.52753, saving model to tmp_checkpoint.cktp\n",
      "93/93 [==============================] - 2s 21ms/step - loss: 19.5712 - mae: 20.0641 - val_loss: 15.0367 - val_mae: 15.5275\n",
      "Epoch 4/100\n",
      "91/93 [============================>.] - ETA: 0s - loss: 18.7568 - mae: 19.2492\n",
      "Epoch 4: val_mae improved from 15.52753 to 15.02724, saving model to tmp_checkpoint.cktp\n",
      "93/93 [==============================] - 2s 19ms/step - loss: 18.7724 - mae: 19.2648 - val_loss: 14.5376 - val_mae: 15.0272\n",
      "Epoch 5/100\n",
      "93/93 [==============================] - ETA: 0s - loss: 18.7718 - mae: 19.2640\n",
      "Epoch 5: val_mae did not improve from 15.02724\n",
      "93/93 [==============================] - 2s 21ms/step - loss: 18.7718 - mae: 19.2640 - val_loss: 14.6460 - val_mae: 15.1353\n",
      "Epoch 6/100\n",
      "91/93 [============================>.] - ETA: 0s - loss: 18.4639 - mae: 18.9563\n",
      "Epoch 6: val_mae improved from 15.02724 to 14.73687, saving model to tmp_checkpoint.cktp\n",
      "93/93 [==============================] - 2s 18ms/step - loss: 18.4928 - mae: 18.9851 - val_loss: 14.2463 - val_mae: 14.7369\n",
      "Epoch 7/100\n",
      "91/93 [============================>.] - ETA: 0s - loss: 17.8180 - mae: 18.3099\n",
      "Epoch 7: val_mae did not improve from 14.73687\n",
      "93/93 [==============================] - 2s 20ms/step - loss: 17.8395 - mae: 18.3313 - val_loss: 15.6073 - val_mae: 16.0991\n",
      "Epoch 8/100\n",
      "91/93 [============================>.] - ETA: 0s - loss: 18.2320 - mae: 18.7241\n",
      "Epoch 8: val_mae improved from 14.73687 to 14.61750, saving model to tmp_checkpoint.cktp\n",
      "93/93 [==============================] - 2s 20ms/step - loss: 18.2092 - mae: 18.7013 - val_loss: 14.1254 - val_mae: 14.6175\n",
      "Epoch 9/100\n",
      "93/93 [==============================] - ETA: 0s - loss: 17.7037 - mae: 18.1955\n",
      "Epoch 9: val_mae did not improve from 14.61750\n",
      "93/93 [==============================] - 2s 19ms/step - loss: 17.7037 - mae: 18.1955 - val_loss: 14.1998 - val_mae: 14.6885\n",
      "Epoch 10/100\n",
      "91/93 [============================>.] - ETA: 0s - loss: 17.8720 - mae: 18.3635\n",
      "Epoch 10: val_mae did not improve from 14.61750\n",
      "93/93 [==============================] - 2s 19ms/step - loss: 17.9028 - mae: 18.3943 - val_loss: 16.6523 - val_mae: 17.1437\n",
      "Epoch 11/100\n",
      "91/93 [============================>.] - ETA: 0s - loss: 17.8413 - mae: 18.3330\n",
      "Epoch 11: val_mae improved from 14.61750 to 14.42692, saving model to tmp_checkpoint.cktp\n",
      "93/93 [==============================] - 2s 21ms/step - loss: 17.8351 - mae: 18.3268 - val_loss: 13.9359 - val_mae: 14.4269\n",
      "Epoch 12/100\n",
      "93/93 [==============================] - ETA: 0s - loss: 17.6291 - mae: 18.1206\n",
      "Epoch 12: val_mae did not improve from 14.42692\n",
      "93/93 [==============================] - 2s 22ms/step - loss: 17.6291 - mae: 18.1206 - val_loss: 14.3684 - val_mae: 14.8614\n",
      "Epoch 13/100\n",
      "91/93 [============================>.] - ETA: 0s - loss: 17.5775 - mae: 18.0688\n",
      "Epoch 13: val_mae did not improve from 14.42692\n",
      "93/93 [==============================] - 2s 19ms/step - loss: 17.6061 - mae: 18.0974 - val_loss: 13.9561 - val_mae: 14.4476\n",
      "Epoch 14/100\n",
      "91/93 [============================>.] - ETA: 0s - loss: 17.6207 - mae: 18.1120\n",
      "Epoch 14: val_mae did not improve from 14.42692\n",
      "93/93 [==============================] - 2s 19ms/step - loss: 17.6447 - mae: 18.1360 - val_loss: 13.9697 - val_mae: 14.4581\n",
      "Epoch 15/100\n",
      "90/93 [============================>.] - ETA: 0s - loss: 17.4326 - mae: 17.9240\n",
      "Epoch 15: val_mae did not improve from 14.42692\n",
      "93/93 [==============================] - 2s 19ms/step - loss: 17.4367 - mae: 17.9281 - val_loss: 13.9377 - val_mae: 14.4291\n",
      "Epoch 16/100\n",
      "91/93 [============================>.] - ETA: 0s - loss: 17.4245 - mae: 17.9162\n",
      "Epoch 16: val_mae improved from 14.42692 to 14.41024, saving model to tmp_checkpoint.cktp\n",
      "93/93 [==============================] - 2s 19ms/step - loss: 17.4366 - mae: 17.9283 - val_loss: 13.9187 - val_mae: 14.4102\n",
      "Epoch 17/100\n",
      "93/93 [==============================] - ETA: 0s - loss: 17.3949 - mae: 17.8859\n",
      "Epoch 17: val_mae did not improve from 14.41024\n",
      "93/93 [==============================] - 2s 19ms/step - loss: 17.3949 - mae: 17.8859 - val_loss: 14.0369 - val_mae: 14.5267\n",
      "Epoch 18/100\n",
      "92/93 [============================>.] - ETA: 0s - loss: 17.3579 - mae: 17.8492\n",
      "Epoch 18: val_mae did not improve from 14.41024\n",
      "93/93 [==============================] - 2s 19ms/step - loss: 17.3476 - mae: 17.8389 - val_loss: 14.1693 - val_mae: 14.6604\n",
      "Epoch 19/100\n",
      "92/93 [============================>.] - ETA: 0s - loss: 17.2984 - mae: 17.7896\n",
      "Epoch 19: val_mae did not improve from 14.41024\n",
      "93/93 [==============================] - 2s 19ms/step - loss: 17.3089 - mae: 17.8001 - val_loss: 14.6660 - val_mae: 15.1569\n",
      "Epoch 20/100\n",
      "93/93 [==============================] - ETA: 0s - loss: 17.5177 - mae: 18.0088\n",
      "Epoch 20: val_mae did not improve from 14.41024\n",
      "93/93 [==============================] - 2s 18ms/step - loss: 17.5177 - mae: 18.0088 - val_loss: 13.9393 - val_mae: 14.4302\n",
      "Epoch 21/100\n",
      "91/93 [============================>.] - ETA: 0s - loss: 17.3366 - mae: 17.8275\n",
      "Epoch 21: val_mae did not improve from 14.41024\n",
      "93/93 [==============================] - 2s 18ms/step - loss: 17.3402 - mae: 17.8311 - val_loss: 13.9490 - val_mae: 14.4406\n",
      "Epoch 22/100\n",
      "90/93 [============================>.] - ETA: 0s - loss: 17.1814 - mae: 17.6725\n",
      "Epoch 22: val_mae did not improve from 14.41024\n",
      "93/93 [==============================] - 2s 19ms/step - loss: 17.1904 - mae: 17.6816 - val_loss: 13.9356 - val_mae: 14.4252\n",
      "Epoch 23/100\n",
      "92/93 [============================>.] - ETA: 0s - loss: 17.7153 - mae: 18.2065\n",
      "Epoch 23: val_mae did not improve from 14.41024\n",
      "93/93 [==============================] - 2s 19ms/step - loss: 17.7061 - mae: 18.1974 - val_loss: 14.1102 - val_mae: 14.5997\n",
      "Epoch 24/100\n",
      "91/93 [============================>.] - ETA: 0s - loss: 17.2778 - mae: 17.7690\n",
      "Epoch 24: val_mae did not improve from 14.41024\n",
      "93/93 [==============================] - 2s 20ms/step - loss: 17.2760 - mae: 17.7672 - val_loss: 14.5691 - val_mae: 15.0579\n",
      "Epoch 25/100\n",
      "92/93 [============================>.] - ETA: 0s - loss: 17.3869 - mae: 17.8777\n",
      "Epoch 25: val_mae did not improve from 14.41024\n",
      "93/93 [==============================] - 2s 21ms/step - loss: 17.3779 - mae: 17.8687 - val_loss: 17.8095 - val_mae: 18.3026\n",
      "Epoch 26/100\n",
      "91/93 [============================>.] - ETA: 0s - loss: 17.3665 - mae: 17.8576\n",
      "Epoch 26: val_mae improved from 14.41024 to 14.22388, saving model to tmp_checkpoint.cktp\n",
      "93/93 [==============================] - 2s 20ms/step - loss: 17.3609 - mae: 17.8520 - val_loss: 13.7340 - val_mae: 14.2239\n",
      "Epoch 27/100\n",
      "92/93 [============================>.] - ETA: 0s - loss: 17.0371 - mae: 17.5278\n",
      "Epoch 27: val_mae improved from 14.22388 to 14.10842, saving model to tmp_checkpoint.cktp\n",
      "93/93 [==============================] - 2s 21ms/step - loss: 17.0396 - mae: 17.5303 - val_loss: 13.6197 - val_mae: 14.1084\n",
      "Epoch 28/100\n",
      "91/93 [============================>.] - ETA: 0s - loss: 17.2316 - mae: 17.7220\n",
      "Epoch 28: val_mae did not improve from 14.10842\n",
      "93/93 [==============================] - 2s 20ms/step - loss: 17.2136 - mae: 17.7041 - val_loss: 13.9949 - val_mae: 14.4853\n",
      "Epoch 29/100\n",
      "91/93 [============================>.] - ETA: 0s - loss: 17.0719 - mae: 17.5628\n",
      "Epoch 29: val_mae did not improve from 14.10842\n",
      "93/93 [==============================] - 2s 19ms/step - loss: 17.0930 - mae: 17.5839 - val_loss: 14.3506 - val_mae: 14.8408\n",
      "Epoch 30/100\n",
      "90/93 [============================>.] - ETA: 0s - loss: 17.3212 - mae: 17.8121\n",
      "Epoch 30: val_mae did not improve from 14.10842\n",
      "93/93 [==============================] - 2s 19ms/step - loss: 17.3091 - mae: 17.8000 - val_loss: 13.7620 - val_mae: 14.2498\n",
      "Epoch 31/100\n",
      "90/93 [============================>.] - ETA: 0s - loss: 17.0194 - mae: 17.5099\n",
      "Epoch 31: val_mae did not improve from 14.10842\n",
      "93/93 [==============================] - 2s 19ms/step - loss: 17.0329 - mae: 17.5235 - val_loss: 13.7385 - val_mae: 14.2265\n",
      "Epoch 32/100\n",
      "91/93 [============================>.] - ETA: 0s - loss: 16.9837 - mae: 17.4743\n",
      "Epoch 32: val_mae improved from 14.10842 to 14.07788, saving model to tmp_checkpoint.cktp\n",
      "93/93 [==============================] - 2s 19ms/step - loss: 17.0135 - mae: 17.5040 - val_loss: 13.5908 - val_mae: 14.0779\n",
      "Epoch 33/100\n",
      "92/93 [============================>.] - ETA: 0s - loss: 17.1088 - mae: 17.5997\n",
      "Epoch 33: val_mae improved from 14.07788 to 14.07028, saving model to tmp_checkpoint.cktp\n",
      "93/93 [==============================] - 2s 22ms/step - loss: 17.0835 - mae: 17.5745 - val_loss: 13.5821 - val_mae: 14.0703\n",
      "Epoch 34/100\n",
      "92/93 [============================>.] - ETA: 0s - loss: 16.9629 - mae: 17.4537\n",
      "Epoch 34: val_mae did not improve from 14.07028\n",
      "93/93 [==============================] - 2s 19ms/step - loss: 16.9766 - mae: 17.4674 - val_loss: 14.5438 - val_mae: 15.0353\n",
      "Epoch 35/100\n",
      "91/93 [============================>.] - ETA: 0s - loss: 16.9562 - mae: 17.4468\n",
      "Epoch 35: val_mae did not improve from 14.07028\n",
      "93/93 [==============================] - 2s 20ms/step - loss: 16.9852 - mae: 17.4759 - val_loss: 13.6532 - val_mae: 14.1414\n",
      "Epoch 36/100\n",
      "93/93 [==============================] - ETA: 0s - loss: 16.9928 - mae: 17.4834\n",
      "Epoch 36: val_mae did not improve from 14.07028\n",
      "93/93 [==============================] - 2s 20ms/step - loss: 16.9928 - mae: 17.4834 - val_loss: 13.8389 - val_mae: 14.3299\n",
      "Epoch 37/100\n",
      "92/93 [============================>.] - ETA: 0s - loss: 17.0655 - mae: 17.5559\n",
      "Epoch 37: val_mae did not improve from 14.07028\n",
      "93/93 [==============================] - 2s 18ms/step - loss: 17.0561 - mae: 17.5466 - val_loss: 14.0924 - val_mae: 14.5829\n",
      "Epoch 38/100\n",
      "91/93 [============================>.] - ETA: 0s - loss: 16.9909 - mae: 17.4813\n",
      "Epoch 38: val_mae did not improve from 14.07028\n",
      "93/93 [==============================] - 2s 20ms/step - loss: 16.9893 - mae: 17.4796 - val_loss: 13.9941 - val_mae: 14.4811\n",
      "Epoch 39/100\n",
      "92/93 [============================>.] - ETA: 0s - loss: 16.9535 - mae: 17.4443\n",
      "Epoch 39: val_mae improved from 14.07028 to 14.01756, saving model to tmp_checkpoint.cktp\n",
      "93/93 [==============================] - 2s 19ms/step - loss: 16.9542 - mae: 17.4450 - val_loss: 13.5299 - val_mae: 14.0176\n",
      "Epoch 40/100\n",
      "93/93 [==============================] - ETA: 0s - loss: 16.8858 - mae: 17.3764\n",
      "Epoch 40: val_mae did not improve from 14.01756\n",
      "93/93 [==============================] - 2s 20ms/step - loss: 16.8858 - mae: 17.3764 - val_loss: 14.2121 - val_mae: 14.7022\n",
      "Epoch 41/100\n",
      "93/93 [==============================] - ETA: 0s - loss: 16.8942 - mae: 17.3848\n",
      "Epoch 41: val_mae did not improve from 14.01756\n",
      "93/93 [==============================] - 2s 19ms/step - loss: 16.8942 - mae: 17.3848 - val_loss: 14.4397 - val_mae: 14.9274\n",
      "Epoch 42/100\n",
      "91/93 [============================>.] - ETA: 0s - loss: 17.0381 - mae: 17.5289\n",
      "Epoch 42: val_mae improved from 14.01756 to 13.99414, saving model to tmp_checkpoint.cktp\n",
      "93/93 [==============================] - 2s 20ms/step - loss: 17.0344 - mae: 17.5252 - val_loss: 13.5054 - val_mae: 13.9941\n",
      "Epoch 43/100\n",
      "91/93 [============================>.] - ETA: 0s - loss: 16.8365 - mae: 17.3268\n",
      "Epoch 43: val_mae improved from 13.99414 to 13.98419, saving model to tmp_checkpoint.cktp\n",
      "93/93 [==============================] - 2s 20ms/step - loss: 16.8257 - mae: 17.3160 - val_loss: 13.4966 - val_mae: 13.9842\n",
      "Epoch 44/100\n",
      "92/93 [============================>.] - ETA: 0s - loss: 16.8464 - mae: 17.3367\n",
      "Epoch 44: val_mae improved from 13.98419 to 13.91136, saving model to tmp_checkpoint.cktp\n",
      "93/93 [==============================] - 2s 20ms/step - loss: 16.8412 - mae: 17.3315 - val_loss: 13.4221 - val_mae: 13.9114\n",
      "Epoch 45/100\n",
      "92/93 [============================>.] - ETA: 0s - loss: 16.7853 - mae: 17.2756\n",
      "Epoch 45: val_mae did not improve from 13.91136\n",
      "93/93 [==============================] - 2s 21ms/step - loss: 16.7812 - mae: 17.2715 - val_loss: 13.4940 - val_mae: 13.9821\n",
      "Epoch 46/100\n",
      "92/93 [============================>.] - ETA: 0s - loss: 16.7344 - mae: 17.2247\n",
      "Epoch 46: val_mae did not improve from 13.91136\n",
      "93/93 [==============================] - 2s 22ms/step - loss: 16.7432 - mae: 17.2336 - val_loss: 14.1509 - val_mae: 14.6408\n",
      "Epoch 47/100\n",
      "91/93 [============================>.] - ETA: 0s - loss: 16.8158 - mae: 17.3062\n",
      "Epoch 47: val_mae did not improve from 13.91136\n",
      "93/93 [==============================] - 2s 20ms/step - loss: 16.7924 - mae: 17.2828 - val_loss: 13.8486 - val_mae: 14.3391\n",
      "Epoch 48/100\n",
      "91/93 [============================>.] - ETA: 0s - loss: 16.8935 - mae: 17.3837\n",
      "Epoch 48: val_mae did not improve from 13.91136\n",
      "93/93 [==============================] - 2s 20ms/step - loss: 16.8728 - mae: 17.3630 - val_loss: 13.9928 - val_mae: 14.4807\n",
      "Epoch 49/100\n",
      "91/93 [============================>.] - ETA: 0s - loss: 16.7684 - mae: 17.2588\n",
      "Epoch 49: val_mae did not improve from 13.91136\n",
      "93/93 [==============================] - 2s 20ms/step - loss: 16.8148 - mae: 17.3053 - val_loss: 14.4664 - val_mae: 14.9547\n",
      "Epoch 50/100\n",
      "91/93 [============================>.] - ETA: 0s - loss: 17.0430 - mae: 17.5337\n",
      "Epoch 50: val_mae did not improve from 13.91136\n",
      "93/93 [==============================] - 2s 20ms/step - loss: 17.0686 - mae: 17.5593 - val_loss: 14.1117 - val_mae: 14.6002\n",
      "Epoch 51/100\n",
      "91/93 [============================>.] - ETA: 0s - loss: 16.7551 - mae: 17.2454\n",
      "Epoch 51: val_mae did not improve from 13.91136\n",
      "93/93 [==============================] - 2s 20ms/step - loss: 16.7507 - mae: 17.2410 - val_loss: 13.8064 - val_mae: 14.2952\n",
      "Epoch 52/100\n",
      "91/93 [============================>.] - ETA: 0s - loss: 16.8017 - mae: 17.2915\n",
      "Epoch 52: val_mae did not improve from 13.91136\n",
      "93/93 [==============================] - 2s 21ms/step - loss: 16.8090 - mae: 17.2988 - val_loss: 14.0121 - val_mae: 14.5024\n",
      "Epoch 53/100\n",
      "91/93 [============================>.] - ETA: 0s - loss: 16.6513 - mae: 17.1416\n",
      "Epoch 53: val_mae did not improve from 13.91136\n",
      "93/93 [==============================] - 2s 20ms/step - loss: 16.6594 - mae: 17.1497 - val_loss: 14.2549 - val_mae: 14.7464\n",
      "Epoch 54/100\n",
      "92/93 [============================>.] - ETA: 0s - loss: 16.8173 - mae: 17.3076\n",
      "Epoch 54: val_mae did not improve from 13.91136\n",
      "93/93 [==============================] - 2s 21ms/step - loss: 16.8158 - mae: 17.3060 - val_loss: 13.7390 - val_mae: 14.2282\n",
      "Epoch 55/100\n",
      "91/93 [============================>.] - ETA: 0s - loss: 16.7187 - mae: 17.2086\n",
      "Epoch 55: val_mae did not improve from 13.91136\n",
      "93/93 [==============================] - 2s 21ms/step - loss: 16.7343 - mae: 17.2243 - val_loss: 13.4454 - val_mae: 13.9312\n",
      "Epoch 56/100\n",
      "91/93 [============================>.] - ETA: 0s - loss: 16.6397 - mae: 17.1297\n",
      "Epoch 56: val_mae did not improve from 13.91136\n",
      "93/93 [==============================] - 2s 21ms/step - loss: 16.6246 - mae: 17.1145 - val_loss: 13.6813 - val_mae: 14.1708\n",
      "Epoch 57/100\n",
      "92/93 [============================>.] - ETA: 0s - loss: 16.4972 - mae: 16.9868\n",
      "Epoch 57: val_mae did not improve from 13.91136\n",
      "93/93 [==============================] - 2s 24ms/step - loss: 16.5378 - mae: 17.0274 - val_loss: 14.0602 - val_mae: 14.5505\n",
      "Epoch 58/100\n",
      "91/93 [============================>.] - ETA: 0s - loss: 16.7004 - mae: 17.1905\n",
      "Epoch 58: val_mae did not improve from 13.91136\n",
      "93/93 [==============================] - 2s 24ms/step - loss: 16.6993 - mae: 17.1894 - val_loss: 14.1648 - val_mae: 14.6549\n",
      "Epoch 59/100\n",
      "93/93 [==============================] - ETA: 0s - loss: 17.0202 - mae: 17.5104\n",
      "Epoch 59: val_mae did not improve from 13.91136\n",
      "93/93 [==============================] - 2s 24ms/step - loss: 17.0202 - mae: 17.5104 - val_loss: 13.6435 - val_mae: 14.1283\n",
      "Epoch 60/100\n",
      "91/93 [============================>.] - ETA: 0s - loss: 16.6999 - mae: 17.1899\n",
      "Epoch 60: val_mae did not improve from 13.91136\n",
      "93/93 [==============================] - 2s 24ms/step - loss: 16.7169 - mae: 17.2070 - val_loss: 13.9649 - val_mae: 14.4556\n",
      "Epoch 61/100\n",
      "92/93 [============================>.] - ETA: 0s - loss: 16.6773 - mae: 17.1673\n",
      "Epoch 61: val_mae did not improve from 13.91136\n",
      "93/93 [==============================] - 2s 23ms/step - loss: 16.6658 - mae: 17.1559 - val_loss: 13.7202 - val_mae: 14.2084\n",
      "Epoch 62/100\n",
      "91/93 [============================>.] - ETA: 0s - loss: 16.6339 - mae: 17.1240\n",
      "Epoch 62: val_mae did not improve from 13.91136\n",
      "93/93 [==============================] - 2s 22ms/step - loss: 16.6070 - mae: 17.0971 - val_loss: 13.8947 - val_mae: 14.3825\n",
      "Epoch 63/100\n",
      "93/93 [==============================] - ETA: 0s - loss: 16.6562 - mae: 17.1460\n",
      "Epoch 63: val_mae did not improve from 13.91136\n",
      "93/93 [==============================] - 2s 22ms/step - loss: 16.6562 - mae: 17.1460 - val_loss: 13.7250 - val_mae: 14.2149\n",
      "Epoch 64/100\n",
      "93/93 [==============================] - ETA: 0s - loss: 16.5258 - mae: 17.0153\n",
      "Epoch 64: val_mae did not improve from 13.91136\n",
      "93/93 [==============================] - 2s 23ms/step - loss: 16.5258 - mae: 17.0153 - val_loss: 13.7006 - val_mae: 14.1879\n",
      "Epoch 65/100\n",
      "91/93 [============================>.] - ETA: 0s - loss: 16.5694 - mae: 17.0592\n",
      "Epoch 65: val_mae did not improve from 13.91136\n",
      "93/93 [==============================] - 2s 23ms/step - loss: 16.6187 - mae: 17.1085 - val_loss: 14.7597 - val_mae: 15.2505\n",
      "Epoch 66/100\n",
      "91/93 [============================>.] - ETA: 0s - loss: 16.8633 - mae: 17.3537\n",
      "Epoch 66: val_mae did not improve from 13.91136\n",
      "93/93 [==============================] - 2s 24ms/step - loss: 16.9074 - mae: 17.3979 - val_loss: 15.8438 - val_mae: 16.3352\n",
      "Epoch 67/100\n",
      "91/93 [============================>.] - ETA: 0s - loss: 16.7584 - mae: 17.2485\n",
      "Epoch 67: val_mae did not improve from 13.91136\n",
      "93/93 [==============================] - 2s 24ms/step - loss: 16.7665 - mae: 17.2567 - val_loss: 14.6995 - val_mae: 15.1890\n",
      "Epoch 68/100\n",
      "92/93 [============================>.] - ETA: 0s - loss: 16.5952 - mae: 17.0852\n",
      "Epoch 68: val_mae did not improve from 13.91136\n",
      "93/93 [==============================] - 2s 25ms/step - loss: 16.5967 - mae: 17.0866 - val_loss: 14.1999 - val_mae: 14.6914\n",
      "Epoch 69/100\n",
      "93/93 [==============================] - ETA: 0s - loss: 16.4688 - mae: 16.9584\n",
      "Epoch 69: val_mae did not improve from 13.91136\n",
      "93/93 [==============================] - 2s 26ms/step - loss: 16.4688 - mae: 16.9584 - val_loss: 14.1634 - val_mae: 14.6521\n",
      "Epoch 70/100\n",
      "92/93 [============================>.] - ETA: 0s - loss: 16.5246 - mae: 17.0146\n",
      "Epoch 70: val_mae did not improve from 13.91136\n",
      "93/93 [==============================] - 2s 26ms/step - loss: 16.5218 - mae: 17.0118 - val_loss: 13.8268 - val_mae: 14.3168\n",
      "Epoch 71/100\n",
      "92/93 [============================>.] - ETA: 0s - loss: 16.6462 - mae: 17.1363\n",
      "Epoch 71: val_mae did not improve from 13.91136\n",
      "93/93 [==============================] - 2s 26ms/step - loss: 16.6456 - mae: 17.1357 - val_loss: 14.5434 - val_mae: 15.0340\n",
      "Epoch 72/100\n",
      "91/93 [============================>.] - ETA: 0s - loss: 16.5643 - mae: 17.0538\n",
      "Epoch 72: val_mae did not improve from 13.91136\n",
      "93/93 [==============================] - 3s 27ms/step - loss: 16.5574 - mae: 17.0469 - val_loss: 13.9597 - val_mae: 14.4489\n",
      "Epoch 73/100\n",
      "93/93 [==============================] - ETA: 0s - loss: 16.4496 - mae: 16.9388\n",
      "Epoch 73: val_mae did not improve from 13.91136\n",
      "93/93 [==============================] - 2s 24ms/step - loss: 16.4496 - mae: 16.9388 - val_loss: 14.2419 - val_mae: 14.7328\n",
      "Epoch 74/100\n",
      "92/93 [============================>.] - ETA: 0s - loss: 16.5290 - mae: 17.0185\n",
      "Epoch 74: val_mae did not improve from 13.91136\n",
      "93/93 [==============================] - 3s 27ms/step - loss: 16.5500 - mae: 17.0396 - val_loss: 14.0906 - val_mae: 14.5801\n",
      "Epoch 75/100\n",
      "91/93 [============================>.] - ETA: 0s - loss: 16.3597 - mae: 16.8490\n",
      "Epoch 75: val_mae did not improve from 13.91136\n",
      "93/93 [==============================] - 2s 25ms/step - loss: 16.3795 - mae: 16.8688 - val_loss: 14.4378 - val_mae: 14.9264\n",
      "Epoch 76/100\n",
      "93/93 [==============================] - ETA: 0s - loss: 16.5365 - mae: 17.0258\n",
      "Epoch 76: val_mae did not improve from 13.91136\n",
      "93/93 [==============================] - 3s 28ms/step - loss: 16.5365 - mae: 17.0258 - val_loss: 13.7587 - val_mae: 14.2483\n",
      "Epoch 77/100\n",
      "92/93 [============================>.] - ETA: 0s - loss: 16.4424 - mae: 16.9321\n",
      "Epoch 77: val_mae did not improve from 13.91136\n",
      "93/93 [==============================] - 3s 26ms/step - loss: 16.4489 - mae: 16.9386 - val_loss: 14.4518 - val_mae: 14.9432\n",
      "Epoch 78/100\n",
      "93/93 [==============================] - ETA: 0s - loss: 16.4465 - mae: 16.9364\n",
      "Epoch 78: val_mae did not improve from 13.91136\n",
      "93/93 [==============================] - 3s 27ms/step - loss: 16.4465 - mae: 16.9364 - val_loss: 14.2789 - val_mae: 14.7681\n",
      "Epoch 79/100\n",
      "91/93 [============================>.] - ETA: 0s - loss: 16.4494 - mae: 16.9389\n",
      "Epoch 79: val_mae did not improve from 13.91136\n",
      "93/93 [==============================] - 2s 25ms/step - loss: 16.4564 - mae: 16.9459 - val_loss: 14.5996 - val_mae: 15.0903\n",
      "Epoch 80/100\n",
      "92/93 [============================>.] - ETA: 0s - loss: 16.4203 - mae: 16.9097\n",
      "Epoch 80: val_mae did not improve from 13.91136\n",
      "93/93 [==============================] - 2s 25ms/step - loss: 16.4182 - mae: 16.9077 - val_loss: 14.0951 - val_mae: 14.5856\n",
      "Epoch 81/100\n",
      "93/93 [==============================] - ETA: 0s - loss: 16.4016 - mae: 16.8910\n",
      "Epoch 81: val_mae did not improve from 13.91136\n",
      "93/93 [==============================] - 2s 24ms/step - loss: 16.4016 - mae: 16.8910 - val_loss: 14.2663 - val_mae: 14.7551\n",
      "Epoch 82/100\n",
      "93/93 [==============================] - ETA: 0s - loss: 16.3380 - mae: 16.8273\n",
      "Epoch 82: val_mae did not improve from 13.91136\n",
      "93/93 [==============================] - 2s 25ms/step - loss: 16.3380 - mae: 16.8273 - val_loss: 14.0894 - val_mae: 14.5792\n",
      "Epoch 83/100\n",
      "93/93 [==============================] - ETA: 0s - loss: 16.3324 - mae: 16.8219\n",
      "Epoch 83: val_mae did not improve from 13.91136\n",
      "93/93 [==============================] - 2s 25ms/step - loss: 16.3324 - mae: 16.8219 - val_loss: 14.1713 - val_mae: 14.6610\n",
      "Epoch 84/100\n",
      "93/93 [==============================] - ETA: 0s - loss: 16.3264 - mae: 16.8157\n",
      "Epoch 84: val_mae did not improve from 13.91136\n",
      "93/93 [==============================] - 3s 29ms/step - loss: 16.3264 - mae: 16.8157 - val_loss: 14.1849 - val_mae: 14.6716\n",
      "Epoch 85/100\n",
      "92/93 [============================>.] - ETA: 0s - loss: 16.2267 - mae: 16.7156\n",
      "Epoch 85: val_mae did not improve from 13.91136\n",
      "93/93 [==============================] - 3s 32ms/step - loss: 16.2648 - mae: 16.7536 - val_loss: 13.7058 - val_mae: 14.1947\n",
      "Epoch 86/100\n",
      "91/93 [============================>.] - ETA: 0s - loss: 16.2694 - mae: 16.7588\n",
      "Epoch 86: val_mae did not improve from 13.91136\n",
      "93/93 [==============================] - 3s 33ms/step - loss: 16.3114 - mae: 16.8009 - val_loss: 13.7180 - val_mae: 14.2077\n",
      "Epoch 87/100\n",
      "93/93 [==============================] - ETA: 0s - loss: 16.3232 - mae: 16.8126\n",
      "Epoch 87: val_mae did not improve from 13.91136\n",
      "93/93 [==============================] - 3s 28ms/step - loss: 16.3232 - mae: 16.8126 - val_loss: 14.0741 - val_mae: 14.5651\n",
      "Epoch 88/100\n",
      "92/93 [============================>.] - ETA: 0s - loss: 16.7421 - mae: 17.2322\n",
      "Epoch 88: val_mae did not improve from 13.91136\n",
      "93/93 [==============================] - 3s 27ms/step - loss: 16.7406 - mae: 17.2307 - val_loss: 13.7241 - val_mae: 14.2121\n",
      "Epoch 89/100\n",
      "93/93 [==============================] - ETA: 0s - loss: 16.3239 - mae: 16.8132\n",
      "Epoch 89: val_mae did not improve from 13.91136\n",
      "93/93 [==============================] - 3s 27ms/step - loss: 16.3239 - mae: 16.8132 - val_loss: 13.8843 - val_mae: 14.3719\n",
      "Epoch 90/100\n",
      "92/93 [============================>.] - ETA: 0s - loss: 16.2254 - mae: 16.7146\n",
      "Epoch 90: val_mae did not improve from 13.91136\n",
      "93/93 [==============================] - 3s 27ms/step - loss: 16.2460 - mae: 16.7352 - val_loss: 14.0327 - val_mae: 14.5220\n",
      "Epoch 91/100\n",
      "92/93 [============================>.] - ETA: 0s - loss: 16.3401 - mae: 16.8293\n",
      "Epoch 91: val_mae did not improve from 13.91136\n",
      "93/93 [==============================] - 3s 28ms/step - loss: 16.3453 - mae: 16.8345 - val_loss: 15.1726 - val_mae: 15.6619\n",
      "Epoch 92/100\n",
      "93/93 [==============================] - ETA: 0s - loss: 16.3962 - mae: 16.8857\n",
      "Epoch 92: val_mae did not improve from 13.91136\n",
      "93/93 [==============================] - 3s 29ms/step - loss: 16.3962 - mae: 16.8857 - val_loss: 13.9538 - val_mae: 14.4431\n",
      "Epoch 93/100\n",
      "93/93 [==============================] - ETA: 0s - loss: 16.2852 - mae: 16.7745\n",
      "Epoch 93: val_mae did not improve from 13.91136\n",
      "93/93 [==============================] - 3s 27ms/step - loss: 16.2852 - mae: 16.7745 - val_loss: 13.8758 - val_mae: 14.3648\n",
      "Epoch 94/100\n",
      "91/93 [============================>.] - ETA: 0s - loss: 16.2692 - mae: 16.7582\n",
      "Epoch 94: val_mae did not improve from 13.91136\n",
      "93/93 [==============================] - 3s 26ms/step - loss: 16.2816 - mae: 16.7707 - val_loss: 14.1068 - val_mae: 14.5968\n",
      "Epoch 95/100\n",
      "93/93 [==============================] - ETA: 0s - loss: 16.2005 - mae: 16.6894\n",
      "Epoch 95: val_mae did not improve from 13.91136\n",
      "93/93 [==============================] - 3s 28ms/step - loss: 16.2005 - mae: 16.6894 - val_loss: 13.9578 - val_mae: 14.4469\n",
      "Epoch 96/100\n",
      "92/93 [============================>.] - ETA: 0s - loss: 16.2868 - mae: 16.7759\n",
      "Epoch 96: val_mae did not improve from 13.91136\n",
      "93/93 [==============================] - 2s 25ms/step - loss: 16.2814 - mae: 16.7706 - val_loss: 13.8861 - val_mae: 14.3735\n",
      "Epoch 97/100\n",
      "92/93 [============================>.] - ETA: 0s - loss: 16.7059 - mae: 17.1953\n",
      "Epoch 97: val_mae did not improve from 13.91136\n",
      "93/93 [==============================] - 2s 26ms/step - loss: 16.7108 - mae: 17.2003 - val_loss: 14.3694 - val_mae: 14.8596\n",
      "Epoch 98/100\n",
      "92/93 [============================>.] - ETA: 0s - loss: 16.4148 - mae: 16.9042\n",
      "Epoch 98: val_mae did not improve from 13.91136\n",
      "93/93 [==============================] - 2s 25ms/step - loss: 16.4183 - mae: 16.9077 - val_loss: 14.6269 - val_mae: 15.1161\n",
      "Epoch 99/100\n",
      "92/93 [============================>.] - ETA: 0s - loss: 16.2714 - mae: 16.7609\n",
      "Epoch 99: val_mae did not improve from 13.91136\n",
      "93/93 [==============================] - 3s 26ms/step - loss: 16.2506 - mae: 16.7401 - val_loss: 14.0641 - val_mae: 14.5537\n",
      "Epoch 100/100\n",
      "91/93 [============================>.] - ETA: 0s - loss: 16.3470 - mae: 16.8364\n",
      "Epoch 100: val_mae did not improve from 13.91136\n",
      "93/93 [==============================] - 2s 25ms/step - loss: 16.3426 - mae: 16.8321 - val_loss: 13.9481 - val_mae: 14.4392\n"
     ]
    }
   ],
   "source": [
    "epochs = 100\n",
    "history = model.fit(train_set,\n",
    "                    validation_data=(validation_set),\n",
    "                    epochs=epochs,\n",
    "                    callbacks=[checkpoint])"
   ]
  },
  {
   "cell_type": "code",
   "execution_count": 36,
   "metadata": {},
   "outputs": [
    {
     "data": {
      "text/plain": [
       "<tensorflow.python.checkpoint.checkpoint.CheckpointLoadStatus at 0x1d7bed6a850>"
      ]
     },
     "execution_count": 36,
     "metadata": {},
     "output_type": "execute_result"
    }
   ],
   "source": [
    "model.load_weights(checkpoint_path)"
   ]
  },
  {
   "attachments": {},
   "cell_type": "markdown",
   "metadata": {},
   "source": [
    "### Visualization"
   ]
  },
  {
   "cell_type": "code",
   "execution_count": 37,
   "metadata": {},
   "outputs": [],
   "source": [
    "import matplotlib.pyplot as plt"
   ]
  },
  {
   "cell_type": "code",
   "execution_count": 42,
   "metadata": {},
   "outputs": [
    {
     "data": {
      "image/png": "[encoded data removed]",
      "text/plain": [
       "<Figure size 864x648 with 1 Axes>"
      ]
     },
     "metadata": {
      "needs_background": "light"
     },
     "output_type": "display_data"
    }
   ],
   "source": [
    "plt.figure(figsize=(12, 9))\n",
    "plt.plot(np.arange(1, epochs+1), history.history['loss'])\n",
    "plt.plot(np.arange(1, epochs+1), history.history['val_loss'])\n",
    "plt.title('Loss / Val Loss', fontsize=20, color='blue')\n",
    "plt.xlabel('Epochs')\n",
    "plt.ylabel('Loss')\n",
    "plt.legend(['loss', 'val_loss'], fontsize=15)\n",
    "plt.show()"
   ]
  },
  {
   "cell_type": "code",
   "execution_count": 43,
   "metadata": {},
   "outputs": [
    {
     "data": {
      "image/png": "[encoded data removed]",
      "text/plain": [
       "<Figure size 864x648 with 1 Axes>"
      ]
     },
     "metadata": {
      "needs_background": "light"
     },
     "output_type": "display_data"
    }
   ],
   "source": [
    "plt.figure(figsize=(12, 9))\n",
    "plt.plot(np.arange(1, epochs+1), history.history['mae'])\n",
    "plt.plot(np.arange(1, epochs+1), history.history['val_mae'])\n",
    "plt.title('MAE / Val MAE', fontsize=20)\n",
    "plt.xlabel('Epochs')\n",
    "plt.ylabel('MAE')\n",
    "plt.legend(['mae', 'val_mae'], fontsize=15)\n",
    "plt.show()"
   ]
  }
 ],
 "metadata": {
  "kernelspec": {
   "display_name": "Python 3",
   "language": "python",
   "name": "python3"
  },
  "language_info": {
   "codemirror_mode": {
    "name": "ipython",
    "version": 3
   },
   "file_extension": ".py",
   "mimetype": "text/x-python",
   "name": "python",
   "nbconvert_exporter": "python",
   "pygments_lexer": "ipython3",
   "version": "3.9.13 (tags/v3.9.13:6de2ca5, May 17 2022, 16:36:42) [MSC v.1929 64 bit (AMD64)]"
  },
  "orig_nbformat": 4,
  "vscode": {
   "interpreter": {
    "hash": "5f5ffc5f78e6225cd3937f351c2c1563aeb8fb30021449671063618b955d2ad0"
   }
  }
 },
 "nbformat": 4,
 "nbformat_minor": 2
}
